{
  "nbformat": 4,
  "nbformat_minor": 0,
  "metadata": {
    "colab": {
      "name": "19_nov_cyp",
      "provenance": [],
      "authorship_tag": "ABX9TyNyyYXHqZPtEKdAttZebkwS",
      "include_colab_link": true
    },
    "kernelspec": {
      "name": "python3",
      "display_name": "Python 3"
    }
  },
  "cells": [
    {
      "cell_type": "markdown",
      "metadata": {
        "id": "view-in-github",
        "colab_type": "text"
      },
      "source": [
        "<a href=\"https://colab.research.google.com/github/yaelfierro/cyp_2021/blob/main/19_nov_cyp.ipynb\" target=\"_parent\"><img src=\"https://colab.research.google.com/assets/colab-badge.svg\" alt=\"Open In Colab\"/></a>"
      ]
    },
    {
      "cell_type": "code",
      "metadata": {
        "colab": {
          "base_uri": "https://localhost:8080/"
        },
        "id": "IH5Ow9v4g4wS",
        "outputId": "a3bf6573-022c-4cb3-b6db-9aa62ba28e4e"
      },
      "source": [
        "I=0\n",
        "I= I+1\n",
        "print(f\"I={I}\")\n",
        "J=5**2/3\n",
        "print(f\"J={J}\")"
      ],
      "execution_count": 3,
      "outputs": [
        {
          "output_type": "stream",
          "text": [
            "I=1\n",
            "J=8.333333333333334\n"
          ],
          "name": "stdout"
        }
      ]
    },
    {
      "cell_type": "code",
      "metadata": {
        "id": "Y5hB-YPenD9Q"
      },
      "source": [
        "#declaración de variables(reservando memoria)\n",
        "A=0\n",
        "B=0\n",
        "C=0\n",
        "D=0\n",
        "\n",
        "A= int(input (\"Dame un valor entero:\"))\n",
        "B= int(input (\"Dame un valor entero:\"))\n",
        "C= int(input (\"Dame un valor entero:\"))\n",
        "D= int(input (\"Dame un valor entero:\"))\n",
        "\n",
        "print (A)\n",
        "print (B)\n",
        "print (C)\n",
        "print (D)\n"
      ],
      "execution_count": null,
      "outputs": []
    },
    {
      "cell_type": "code",
      "metadata": {
        "colab": {
          "base_uri": "https://localhost:8080/"
        },
        "id": "xkPxw0AypTco",
        "outputId": "ce91bf04-5041-443b-9f1a-ef49aabf3f77"
      },
      "source": [
        "#ejemplo1.7\n",
        "A=0\n",
        "B=0\n",
        "RES=0\n",
        "\n",
        "A=int(input(\"Dame un entero:\"))\n",
        "B=int(input(\"Dame un entero:\"))\n",
        "RES=(A+B)**2/3\n",
        "print(RES)"
      ],
      "execution_count": 5,
      "outputs": [
        {
          "output_type": "stream",
          "text": [
            "Dame un entero:14\n",
            "Dame un entero:-5\n",
            "27.0\n"
          ],
          "name": "stdout"
        }
      ]
    },
    {
      "cell_type": "code",
      "metadata": {
        "id": "9fKomLo2v70R"
      },
      "source": [
        "#Ejemplo1.8\n",
        "Mat=0\n",
        "CAL1=0\n",
        "CAL2=0\n",
        "CAL3=0\n",
        "CAL4=0\n",
        "CAL5=0\n",
        "PRO=0.0\n",
        "\n",
        "MAT= int( input(\"Dame la matrícula:\"))\n",
        "CAL1= float( input(\"Dame la calificación 1:\"))\n",
        "CAL2= float( input(\"Dame la calificación 2:\"))\n",
        "CAL3= float( input(\"Dame la calificación 3:\"))\n",
        "CAL4= float( input(\"Dame la calificación 4:\"))\n",
        "CAL5= float( input(\"Dame la calificación 5:\"))\n",
        "\n",
        "PRO= ( CAL1+CAL2+CAL3+CAl4+CAL5) / 5\n",
        "print(MAT, PRO)"
      ],
      "execution_count": null,
      "outputs": []
    },
    {
      "cell_type": "code",
      "metadata": {
        "id": "2MYVltnwyAzH"
      },
      "source": [
        "#Ejemplo1.9\n",
        "NUM = 0\n",
        "CUA = 0\n",
        "CUB = 0\n",
        "\n",
        "NUM = int(input(\"Dame un numero entero: \"))\n",
        "\n",
        "CUA = NUM ** 2\n",
        "CUB = NUM ** 3\n",
        "\n",
        "print(\"El cuadrado de \", NUM, \" es \", CUA, \" y su cubo es \", CUB)"
      ],
      "execution_count": null,
      "outputs": []
    },
    {
      "cell_type": "code",
      "metadata": {
        "id": "G8WjbPFa13PV"
      },
      "source": [
        "#ejemplo 1.10\n",
        "base=0\n",
        "altura=0\n",
        "area=0\n",
        "per=0\n",
        "\n",
        "base=float(input(\"Ingresa la base\"))\n",
        "altura=float(input(\"Ingresa la altura\"))\n",
        "area=(base*altura)\n",
        "per=(2*base)+(2*altura)\n",
        "\n",
        "print(f\"el área es {area}\")\n",
        "print(f\"el perímetro es {per}\")"
      ],
      "execution_count": null,
      "outputs": []
    },
    {
      "cell_type": "code",
      "metadata": {
        "id": "JNSHcu5I2Ba3"
      },
      "source": [
        ""
      ],
      "execution_count": null,
      "outputs": []
    }
  ]
}