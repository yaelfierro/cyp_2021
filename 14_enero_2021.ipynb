{
  "nbformat": 4,
  "nbformat_minor": 0,
  "metadata": {
    "colab": {
      "name": "14_enero_2021.ipynb",
      "provenance": [],
      "authorship_tag": "ABX9TyNztRS7lkNzeSGfowg0m5M6",
      "include_colab_link": true
    },
    "kernelspec": {
      "name": "python3",
      "display_name": "Python 3"
    }
  },
  "cells": [
    {
      "cell_type": "markdown",
      "metadata": {
        "id": "view-in-github",
        "colab_type": "text"
      },
      "source": [
        "<a href=\"https://colab.research.google.com/github/yaelfierro/cyp_2021/blob/main/14_enero_2021.ipynb\" target=\"_parent\"><img src=\"https://colab.research.google.com/assets/colab-badge.svg\" alt=\"Open In Colab\"/></a>"
      ]
    },
    {
      "cell_type": "markdown",
      "metadata": {
        "id": "Di9j5raP6fdj"
      },
      "source": [
        "#Palabras reservadas Python\r\n",
        "False, Non, True, and, elif"
      ]
    },
    {
      "cell_type": "code",
      "metadata": {
        "id": "OMe5r8876X7Q"
      },
      "source": [
        "import keyword\r\n",
        "pr\r\n"
      ],
      "execution_count": null,
      "outputs": []
    },
    {
      "cell_type": "markdown",
      "metadata": {
        "id": "GZAPjEBl63XO"
      },
      "source": [
        "#Variable\r\n",
        "Es un espacio de memoria de la computadora para almacenar valores que cambian a lo largo de la ejecución del programa. Este espacio de memoria está referenciado por un identificador, el cual tiene ciertas reglas de nombrado.\r\n",
        "-No debe ser igual a alguna de las palabras reservadas\r\n",
        "-Evitar nombres de variables largos\r\n",
        "-Evitar muy cortos (x, y)\r\n",
        "-Usar notacion snake_case\r\n",
        "-No puede iniciar con número\r\n",
        "-Puede iniciar con _"
      ]
    },
    {
      "cell_type": "code",
      "metadata": {
        "id": "xICWfYHm7rau"
      },
      "source": [
        "_2edad=12\r\n",
        "print(_2edad)\r\n",
        "\r\n",
        "\"\"\"\r\n",
        "No se puede usar una palabra reservada como identificador de variable:\r\n",
        "\r\n",
        "for=12\r\n",
        "print(for)"
      ],
      "execution_count": null,
      "outputs": []
    },
    {
      "cell_type": "code",
      "metadata": {
        "id": "_Wr5ETj18xWD"
      },
      "source": [
        "\"\"\"\r\n",
        "La notación snake_case consta de formar el identificador de variable separando las palabras del mismo con un guión bajo.\r\n",
        "Se recomienda que los identificadores se escriban en minúsculas para las variables y mayúsculas para las constantes\r\n",
        "\r\n",
        "Es decir, si tenemos una variable para los días de la semana, se escribiria:\r\n",
        "\r\n",
        "dás_de_la_semana=7\r\n",
        "días_mes=31\r\n",
        "limite_maximo=100\r\n",
        "\"\"\"\r\n",
        "\r\n",
        "\r\n"
      ],
      "execution_count": null,
      "outputs": []
    },
    {
      "cell_type": "markdown",
      "metadata": {
        "id": "PqImid0C9_aM"
      },
      "source": [
        "#Tipos de datos\r\n",
        "-Numéricos\r\n",
        "    -int(1,2,3,4, etc)\r\n",
        "    -float 4 bytes(1.14, 3.1416, etc)\r\n",
        "    -long 8 bytes (1,2, 3456, etc)\r\n",
        "    -complex 3 + 2j(Raices negativas)\r\n",
        "\r\n",
        "-Booleano: True o False\r\n",
        "-String: Cadena de caracteres(\"cad\", ´Cad´, o \"\"\"cad\"\"\"\r\n",
        "-Listas([1,2,3,4] , [a,b,1,2,3,4])\r\n",
        "-tuplas(   (edad,23) , (3.4)    )\r\n",
        "-conjuntos\r\n",
        "-diccionarios ( {\"nombre\": \"Juan} )\r\n"
      ]
    },
    {
      "cell_type": "markdown",
      "metadata": {
        "id": "6sQHvglZEnwe"
      },
      "source": [
        "#Tipo de dato string\r\n",
        "\r\n",
        "Este tipo de dato permite almacenar cadenas de caracteres, como por ejemplo:\r\n",
        "\r\n"
      ]
    },
    {
      "cell_type": "code",
      "metadata": {
        "id": "o4VTcRoVFJXL"
      },
      "source": [
        "nombre= \"Jesus\"\r\n",
        "lugar_nacimiento=\"México D.F.\"\r\n",
        "frase_favorita=\"\"\"\r\n",
        "El conocimiento me persigue...\r\n",
        "pero...\r\n",
        "yo soy más rápido\r\n",
        "\r\n"
      ],
      "execution_count": null,
      "outputs": []
    },
    {
      "cell_type": "markdown",
      "metadata": {
        "id": "JRzhU5L9Fn3y"
      },
      "source": [
        "#Strings como arreglo\r\n",
        "Un stringen python es almacenado como el tipo de dato (estructura de datos) arreglo.\r\n",
        "\r\n",
        "Por ejemplo la declaración:\r\n",
        "```\r\n",
        "nombre= `Jesus`\r\n",
        "```\r\n",
        "El elemento `J` es almacenado en un arregloen la posición 0\r\n",
        "La e en el 1\r\n",
        "y así sucesivamente"
      ]
    },
    {
      "cell_type": "code",
      "metadata": {
        "id": "_sgFR-gSGL4Q"
      },
      "source": [
        "nombre=\"Jesus\"\r\n",
        "print(nombre)\r\n",
        "print( nombre[0])\r\n",
        "print( nombre[3])\r\n"
      ],
      "execution_count": null,
      "outputs": []
    },
    {
      "cell_type": "markdown",
      "metadata": {
        "id": "mTEtbTk0HSL1"
      },
      "source": [
        "# Iterar sobre un string\r\n",
        "\r\n",
        "Se puede iterar sobre un String con un for de la forma siguiente:\r\n",
        "```\r\n",
        "for letra in range (len(nombre) ):\r\n",
        "     print( letra)"
      ]
    },
    {
      "cell_type": "code",
      "metadata": {
        "id": "HF7cZ3uNIgio"
      },
      "source": [
        "for indice in range ( len(nombre) ): #0, 1, 2 , 3 , 4\r\n",
        "            print(indice, end= \"\")\r\n",
        "            print(nombre[indice])"
      ],
      "execution_count": null,
      "outputs": []
    },
    {
      "cell_type": "markdown",
      "metadata": {
        "id": "1t6G1d-zKJEf"
      },
      "source": [
        "# Funcion range (inicio, stop, incremento)\r\n",
        "El inicio es opcional y por defecto tiene el valor 0\r\n",
        "El incremento tambien es opcional y por defecto es 1"
      ]
    },
    {
      "cell_type": "code",
      "metadata": {
        "id": "0cJrEr06KiiO"
      },
      "source": [
        "for indice in range(1, len(nombre), 1):\r\n",
        "  print(nombre[indice])"
      ],
      "execution_count": null,
      "outputs": []
    },
    {
      "cell_type": "markdown",
      "metadata": {
        "id": "n8sDLv4AMAhy"
      },
      "source": [
        "# Strings e indexado negativo\r\n",
        "En python 3 se arregla una nueva característica a los arreglos de las cadenas de caracteres, esta consta de la capacidad de indexar de forma negativa.\r\n",
        "\r\n",
        "La lógica es la siguiente.\r\n",
        "\r\n",
        "El último elemento se le considera como índice (ALTERNATIVO)-1, con lo cual se podría referenciar el final de la cadena sin la necesidad de saber el tamaño de la misma.\r\n",
        "\r\n",
        "```\r\n",
        "nombre='Jesus'\r\n",
        "\r\n",
        "indice normal 0 1 2 3 4\r\n",
        "\r\n",
        "              J E S U S\r\n",
        "\r\n",
        "\r\n",
        "indice alter -5 -4 -3 -2 -1"
      ]
    },
    {
      "cell_type": "code",
      "metadata": {
        "id": "s4dHBZDgNY87"
      },
      "source": [
        "nombre='Jesus'\r\n",
        "print(nombre[4])\r\n",
        "print(nombre[-1])\r\n",
        "print(\"\")\r\n",
        "for indice _alter in range(-1, -6, -1):\r\n",
        "  print(nombre[indice_alter])"
      ],
      "execution_count": null,
      "outputs": []
    },
    {
      "cell_type": "markdown",
      "metadata": {
        "id": "w5kk5HVCPx2j"
      },
      "source": [
        "#Slicing de cadenas de caracteres\r\n",
        "Esta característica permite sacar secciones de una cadena con la siguiente sintaxis:\r\n",
        "```\r\n",
        "[inicio: stop: incremento]\r\n",
        "```"
      ]
    },
    {
      "cell_type": "code",
      "metadata": {
        "id": "1Go6s4Y4Qmzq"
      },
      "source": [
        "facultad= \"Facultad de Estudios Superiores Aragón\"\r\n",
        "\r\n",
        "print(facultad)\r\n",
        "for indice in range(12,20, 1):\r\n",
        "  print(facultad[indice], end=\"\")\r\n",
        "\r\n",
        "#Hacer esto mismo con la característica Slicing se logra así:\r\n",
        "print(\"\\nCon Slicing\")\r\n",
        "\r\n",
        "#La palabra de con Slicing\r\n",
        "print(facultad[9:11:1])"
      ],
      "execution_count": null,
      "outputs": []
    },
    {
      "cell_type": "code",
      "metadata": {
        "id": "nkzEOCyXS3Zq"
      },
      "source": [
        ""
      ],
      "execution_count": null,
      "outputs": []
    }
  ]
}