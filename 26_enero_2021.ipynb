{
  "nbformat": 4,
  "nbformat_minor": 0,
  "metadata": {
    "colab": {
      "name": "26_enero_2021.ipynb",
      "provenance": [],
      "authorship_tag": "ABX9TyNv6ZMvjvVRZIhMD32i3+dT",
      "include_colab_link": true
    },
    "kernelspec": {
      "name": "python3",
      "display_name": "Python 3"
    }
  },
  "cells": [
    {
      "cell_type": "markdown",
      "metadata": {
        "id": "view-in-github",
        "colab_type": "text"
      },
      "source": [
        "<a href=\"https://colab.research.google.com/github/yaelfierro/cyp_2021/blob/main/26_enero_2021.ipynb\" target=\"_parent\"><img src=\"https://colab.research.google.com/assets/colab-badge.svg\" alt=\"Open In Colab\"/></a>"
      ]
    },
    {
      "cell_type": "markdown",
      "metadata": {
        "id": "hrD0OAzYuGrK"
      },
      "source": [
        "#Listas de Python 3\r\n",
        "1.-Es una estructura de datos lineal de 0 o n elementos\r\n",
        "2.-\"Equivalente a los arreglos\r\n",
        "3.-Puedes ser de diferente tipo de dato. [1,2,33,12] , [1,True,2.34,\"Hola]\r\n",
        "4.-Pueden ser anidados, listas de listas. [\"Melón\", [\"manzana roja\", \"Manzana amarilla\"] ]\r\n",
        "5.-Su selector es de la forma: [ int ]\r\n",
        "6.-Son mutables"
      ]
    },
    {
      "cell_type": "code",
      "metadata": {
        "id": "cBZvQbM5t-ol"
      },
      "source": [
        "#Ejemplos\r\n",
        "numeros=[4,2,45,7,83,3]\r\n",
        "print(numeros)\r\n",
        "print(numeros[2])\r\n",
        "\r\n",
        "#Una lista de 0 elementos\r\n",
        "colores=[] #list()\r\n",
        "type(colores) #averiguar de que tipo de dato es una variable con la funcipon type\r\n",
        "dias= list()\r\n",
        "print(colores)\r\n",
        "print(dias)"
      ],
      "execution_count": null,
      "outputs": []
    },
    {
      "cell_type": "code",
      "metadata": {
        "id": "kw36MW0iwH3Y"
      },
      "source": [
        "#Pueden ser de diferente tipo de datos\r\n",
        "\r\n",
        "mi_lista=[1,2,3,\"Jose\",False,1.76,[55234566,445512345676]]\r\n",
        "print(mi_lista)\r\n",
        "print(mi_lista[5])\r\n",
        "print(mi_lista[6][1])\r\n",
        "print(mi_lista[3][3])\r\n",
        "print(mi_lista[2][3::])\r\n",
        "print(mi_lista[3][-1::1])"
      ],
      "execution_count": null,
      "outputs": []
    },
    {
      "cell_type": "code",
      "metadata": {
        "id": "mUPhaNfe0UCS"
      },
      "source": [
        "\r\n",
        "print(frutas)\r\n",
        "frutas[0]=\"Melon\"\r\n",
        "print(frutas)\r\n",
        "#frutas[1]=\"S\"\r\n",
        "#print(frutas)\r\n",
        "#frutas[1][0]=\"S\"\r\n",
        "frutas[1]=frutas[1].capitalize()\r\n",
        "print(frutas)"
      ],
      "execution_count": null,
      "outputs": []
    },
    {
      "cell_type": "code",
      "metadata": {
        "id": "KRm6HQOI2GfS"
      },
      "source": [
        "#Las listas son clases, por lo tanto, tienen métodos.\r\n",
        "#ejemplo: Append, agrega un elemento al final\r\n",
        "frutas=[\"melon\",\"sandia\",\"kiwi,\"aguacate\",\"mango\",\"platano\"]\r\n",
        "frutas.append(\"fresa\")\r\n",
        "print(frutas)\r\n",
        "print(frutas)\r\n",
        "\r\n",
        "print(\"Ejemplo de copias\")\r\n",
        "otras_frutas=frutas.copy()\r\n",
        "print(frutas)\r\n",
        "print(otras_frutas)\r\n",
        "otras_frutas[0]=\"Chico zapote\"\r\n",
        "print(otras_frutas)\r\n",
        "print(frutas)\r\n",
        "print(\"----------\")\r\n",
        "\r\n",
        "print(\"Ejemplo de extend\")\r\n",
        "\r\n",
        "colores=[\"rojo\",\"verde\",\"azul\"]\r\n",
        "frutas.extend(colores)\r\n",
        "print(frutas)\r\n",
        "\r\n",
        "print(\"Ejemplo insert\")\r\n",
        "print(f\"tamaño de la lista={len(frutas)}\")\r\n",
        "frutas.insert(3.\"Limon\")\r\n",
        "print(f\"tamaño de la lista={len(frutas)}\")\r\n",
        "print(frutas)\r\n",
        "frutas.clear()\r\n",
        "print(frutas)"
      ],
      "execution_count": null,
      "outputs": []
    },
    {
      "cell_type": "code",
      "metadata": {
        "id": "7-WyGS52-6QA"
      },
      "source": [
        "s= [\"jose\",True,2,3,4,5,\"pedro\",1.23]\r\n",
        "for elemento in cosas:\r\n",
        "  print(type(elemento))\r\n",
        "  if type(elemento)==\"int\":\r\n"
      ],
      "execution_count": null,
      "outputs": []
    },
    {
      "cell_type": "code",
      "metadata": {
        "id": "mMcwVSyh3owL"
      },
      "source": [
        ""
      ],
      "execution_count": null,
      "outputs": []
    },
    {
      "cell_type": "code",
      "metadata": {
        "id": "XZVm2e292QFR"
      },
      "source": [
        "help(frutas)"
      ],
      "execution_count": null,
      "outputs": []
    }
  ]
}