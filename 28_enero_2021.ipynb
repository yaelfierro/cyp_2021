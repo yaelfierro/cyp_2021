{
  "nbformat": 4,
  "nbformat_minor": 0,
  "metadata": {
    "colab": {
      "name": "28_enero_2021.ipynb",
      "provenance": [],
      "authorship_tag": "ABX9TyOD7wUYSvpsVRVODVz3/EWO",
      "include_colab_link": true
    },
    "kernelspec": {
      "name": "python3",
      "display_name": "Python 3"
    }
  },
  "cells": [
    {
      "cell_type": "markdown",
      "metadata": {
        "id": "view-in-github",
        "colab_type": "text"
      },
      "source": [
        "<a href=\"https://colab.research.google.com/github/yaelfierro/cyp_2021/blob/main/28_enero_2021.ipynb\" target=\"_parent\"><img src=\"https://colab.research.google.com/assets/colab-badge.svg\" alt=\"Open In Colab\"/></a>"
      ]
    },
    {
      "cell_type": "markdown",
      "metadata": {
        "id": "-GlTSYS1arZa"
      },
      "source": [
        "#Tuplas \r\n",
        "-Tipo de dato lineal, estructura de datos\r\n",
        "-No mutable\r\n",
        "-Puede contener de 0 a n elementos\r\n",
        "-Se declara con() a diferencia de las listas que usan: []\r\n",
        "-No puedes agregar ni eliminar elementos\r\n",
        "-Pueden ser anidadas\r\n",
        "-Los argumentos a una funcion son enviadas como tupla"
      ]
    },
    {
      "cell_type": "code",
      "metadata": {
        "id": "4Kr57rzVajxm"
      },
      "source": [
        "frutas = ('Sandía', 'Melón','Melón','Limón','Mango')\r\n",
        "print(frutas)\r\n",
        "print(frutas[1:3:1])\r\n",
        "print(frutas.count('Melón'))\r\n",
        "print(frutas.count('Manzanas'))\r\n",
        "#Son inmutables\r\n",
        "#frutas[1] = \"Manzanas\" no se puede eso, no puedes asignar después otro valor\r\n",
        "#Se usan para lista de consulta de información\r\n",
        "conexion = ('132.248.12.12',3306,'cyp_bd', 'usr_test', '1234dios')\r\n",
        "print(f\"usuario:{conexion[3]} y password: {conexion[4]}\")"
      ],
      "execution_count": null,
      "outputs": []
    },
    {
      "cell_type": "code",
      "metadata": {
        "id": "lirmqD4VbeWO"
      },
      "source": [
        "print(dir(frutas))"
      ],
      "execution_count": null,
      "outputs": []
    },
    {
      "cell_type": "markdown",
      "metadata": {
        "id": "KGc1ZMu9bg3Y"
      },
      "source": [
        "#Diccionarios\r\n",
        "\r\n",
        "    Estructura de datos semi lineal\r\n",
        "    Formada por pares, llave - valor\r\n",
        "    Equivalentes al tipo de dato JSON, de el lenguaje JavaScript.\r\n",
        "    utiliza organización por función de dispersión\r\n",
        "    Se declara con los elementos {}\r\n",
        "    El selector usa valores de string (llave) -No se puede seleccionar por offset [1]\r\n",
        "    Son mutables\r\n"
      ]
    },
    {
      "cell_type": "code",
      "metadata": {
        "id": "GB9kWXfwbv-s"
      },
      "source": [
        "materia = [\"Algebra\", \"Computadoras y Programacion\", \"Calculo Diferencial e Integral\", \"Introduccion a la Ingenieria\", \"Geometria Analitica\"]\r\n",
        "alumno = {\"ID\" : (123456789), \"Nombre\" : \"Joshua\", \"Apellido\" : \"Cruz\", \"Edad\" : 19, \"Escuela\" : \"FES Aragon\", \"Materia\" : materia}\r\n",
        "for i in alumno:\r\n",
        "    print(f\"Clave: {i} - Valor: {alumno[i]}\")"
      ],
      "execution_count": null,
      "outputs": []
    },
    {
      "cell_type": "code",
      "metadata": {
        "id": "0kib1e7fb0TJ"
      },
      "source": [
        "alumno = {    'nombre'  : 'Juan Pérez'  ,\r\n",
        "          'edad' : 18, \r\n",
        "          'Matricula': 312193,\r\n",
        "          'calificaciones' : {'Mate': 8 , 'ciencias': 9, 'ingles': 8 },\r\n",
        "          'aprovado' : True,\r\n",
        "          'direccion': {\r\n",
        "                        'calle':'Rancho seco',\r\n",
        "                        'numero': 's/n',\r\n",
        "                        'colonia': 'impulsora popular avicola',\r\n",
        "                        'municipio': 'Mi-nezota',\r\n",
        "                        'estado':{\r\n",
        "                                   'clave':15,\r\n",
        "                                   'nombre_clave':'MEX',\r\n",
        "                                   'nombre':\"Estado de México\"\r\n",
        "                                  }\r\n",
        "                       }\r\n",
        "          }"
      ],
      "execution_count": null,
      "outputs": []
    },
    {
      "cell_type": "code",
      "metadata": {
        "id": "2zJS6W7_b4rT"
      },
      "source": [
        "cliente = {}"
      ],
      "execution_count": null,
      "outputs": []
    },
    {
      "cell_type": "code",
      "metadata": {
        "id": "ued8FIojb7f5"
      },
      "source": [
        "funciones = dir(dict)\r\n",
        "for funcion in funciones:\r\n",
        "  print(funcion)"
      ],
      "execution_count": null,
      "outputs": []
    },
    {
      "cell_type": "markdown",
      "metadata": {
        "id": "LzlXclpPb-MK"
      },
      "source": [
        "#Manipulacion de los pares llave valor\r\n",
        "Para ello se emplean los métodos:\r\n",
        "\r\n",
        "    keys() Se regresa una tupla con los strings llave del diccionario\r\n",
        "    values() Te regresa sólo los valores\r\n",
        "    items() Te regresan los pares\r\n"
      ]
    },
    {
      "cell_type": "code",
      "metadata": {
        "id": "ny9CmE1vcGB7"
      },
      "source": [
        "print(alumno)\r\n",
        "llaves = alumno.keys()\r\n",
        "print(llaves)\r\n",
        "for elem in llaves:\r\n",
        "  print(elem)\r\n",
        "  print(alumno[elem])\r\n",
        "  #print(help(llaves))\r\n",
        "  #manipular los valores\r\n",
        "  valores = alumno.values()\r\n",
        "  print(valores)\r\n",
        "  print(\".-.-.--.-\")\r\n",
        "  for val in valores:\r\n",
        "    print(val)\r\n",
        "#Manipular pares\r\n",
        "pares= alumno.item()\r\n",
        "print(pares)\r\n",
        "for par in pares:\r\n",
        "     print(par)"
      ],
      "execution_count": null,
      "outputs": []
    },
    {
      "cell_type": "code",
      "metadata": {
        "id": "3Ir9Z0WCcLEZ"
      },
      "source": [
        "print(help(dict.keys))"
      ],
      "execution_count": null,
      "outputs": []
    }
  ]
}