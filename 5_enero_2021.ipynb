{
  "nbformat": 4,
  "nbformat_minor": 0,
  "metadata": {
    "colab": {
      "name": "5_enero_2021.ipynb",
      "provenance": [],
      "authorship_tag": "ABX9TyOi3X43GrzxXHeqmBXQXvb6",
      "include_colab_link": true
    },
    "kernelspec": {
      "name": "python3",
      "display_name": "Python 3"
    }
  },
  "cells": [
    {
      "cell_type": "markdown",
      "metadata": {
        "id": "view-in-github",
        "colab_type": "text"
      },
      "source": [
        "<a href=\"https://colab.research.google.com/github/yaelfierro/cyp_2021/blob/main/5_enero_2021.ipynb\" target=\"_parent\"><img src=\"https://colab.research.google.com/assets/colab-badge.svg\" alt=\"Open In Colab\"/></a>"
      ]
    },
    {
      "cell_type": "code",
      "metadata": {
        "id": "aPEqcndojxwq"
      },
      "source": [
        "sueldos = [0.0 for x in range (7)]\r\n",
        "print(sueldos)\r\n",
        "sueldos[0]=12.3\r\n",
        "sueldos[1]=32.3\r\n",
        "sueldos[2]=43.3\r\n",
        "sueldos[3]=11.3\r\n",
        "sueldos[4]=77.3\r\n",
        "sueldos[5]=88.3\r\n",
        "sueldos[6]=99.3\r\n",
        "print(sueldos)\r\n",
        "\r\n"
      ],
      "execution_count": null,
      "outputs": []
    },
    {
      "cell_type": "code",
      "metadata": {
        "id": "fD8z5GNOoFKb"
      },
      "source": [
        ""
      ],
      "execution_count": null,
      "outputs": []
    },
    {
      "cell_type": "code",
      "metadata": {
        "id": "IwjigSBkn_cA"
      },
      "source": [
        "s=[0.0 for x in range(7)] #generador de python\r\n",
        "for j in range(7):\r\n",
        "  sueldos[j]=float(input(\"Introduce un sueldo:\"))\r\n",
        "print(sueldos) "
      ],
      "execution_count": null,
      "outputs": []
    },
    {
      "cell_type": "code",
      "metadata": {
        "id": "ufX97SzCn_Hg"
      },
      "source": [
        "#Automatizar el recorrido de los elementos del arreglo\r\n",
        "\r\n",
        "for i in range (7):\r\n",
        "  print(f\"El trabajador {int(i)+1 } gana ${\")\r\n"
      ],
      "execution_count": null,
      "outputs": []
    },
    {
      "cell_type": "code",
      "metadata": {
        "id": "YfuRm4kgotHN"
      },
      "source": [
        "#Problema 4.1\r\n",
        "\r\n",
        "sueldos= [0.0 for x in range (7)]\r\n",
        "suma=0.0\r\n",
        "promedio=0.0\r\n",
        "\r\n",
        "for i in range(7):\r\n",
        "  sueldos(i)=float(input(\"Dame el sueldo:\"))\r\n",
        "\r\n",
        "for i in range(7):\r\n",
        "  print(f\"Trabajador {i+1}, gana:  {sueldos[i]}\")\r\n",
        "\r\n",
        "for i in range(7):\r\n",
        "  suma=suma + sueldos[i]\r\n",
        "\r\n",
        "promedio=suma / (7)\r\n",
        "\r\n",
        "print(\"El promedio de sueldo es ${promedio}\")\r\n",
        "\r\n",
        "for i in range(7):\r\n",
        "  if sueldo[i] > promedio:\r\n",
        "    print(f\"El trabajador {i+1} tiene un sueldo mayor al promedio\")\r\n"
      ],
      "execution_count": null,
      "outputs": []
    },
    {
      "cell_type": "code",
      "metadata": {
        "id": "behQJFgqsr7G"
      },
      "source": [
        "#Hacer un programa que solicite 5 valores enteros positivos y una vez que se capturen, el programa determine lo siguiente: \r\n",
        "# 1.-¿Cual es mayor valor?\r\n",
        "#2.-¿Cual es el menor valor?\r\n",
        "#3.-¿Cual es el promedio?\r\n",
        "\r\n",
        "Max = 5\r\n",
        "valor =  [0.0 for x in range(Max)]\r\n",
        "sum = 0.0\r\n",
        "prom = 0.0\r\n",
        "M = 0\r\n",
        "m = 100000000\r\n",
        "\r\n",
        "for i in range(Max):\r\n",
        "  valor[i] = int(input(\"Dame un valor entero positivo: \"))\r\n",
        "  if valor[i] > M:\r\n",
        "    M = valor[i]\r\n",
        "  elif valor[i] < m:\r\n",
        "    m = valor[i]\r\n",
        "\r\n",
        "for i in range(Max):\r\n",
        "  sum = sum + valor[i]\r\n",
        "\r\n",
        "prom = sum / Max\r\n",
        "\r\n",
        "print(f\"El numero mayor es {M}\")\r\n",
        "print(f\"El numero menor es {m}\")\r\n",
        "print(f\"El promedio es {prom}\")"
      ],
      "execution_count": null,
      "outputs": []
    },
    {
      "cell_type": "code",
      "metadata": {
        "id": "DHn_sJ8evqt4"
      },
      "source": [
        "#Problema 4.1\r\n",
        "N=int(input(\"Ingrese el número de elementos del arreglo:\"))\r\n",
        "VEC= []\r\n",
        "if 1 <= N and N >= 500:\r\n",
        "  VEC=[0 in range (N)]\r\n",
        "  for i in range(N):\r\n",
        "    VEC[I]=int(input(\"Ingrese valor \" + I +1 +\":\"))\r\n",
        "  print(\"Lista de números sin repeticiones:\")\r\n",
        "\r\n",
        "  for I in range(N):\r\n",
        "    print(VEC[I])\r\n",
        "    REPET= VEC[I]\r\n",
        "    while I <= N and REPET == VEC[I]:\r\n",
        "      I = I+1\r\n",
        "  else:\r\n",
        "    print(\"El número de elementos del arreglo es incorrecto\")\r\n"
      ],
      "execution_count": null,
      "outputs": []
    }
  ]
}