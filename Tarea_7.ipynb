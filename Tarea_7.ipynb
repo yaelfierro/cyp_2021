{
  "nbformat": 4,
  "nbformat_minor": 0,
  "metadata": {
    "colab": {
      "name": "Tarea_7.ipynb",
      "provenance": [],
      "authorship_tag": "ABX9TyPQbdf+uJJxCwJtSTWouqmQ",
      "include_colab_link": true
    },
    "kernelspec": {
      "name": "python3",
      "display_name": "Python 3"
    }
  },
  "cells": [
    {
      "cell_type": "markdown",
      "metadata": {
        "id": "view-in-github",
        "colab_type": "text"
      },
      "source": [
        "<a href=\"https://colab.research.google.com/github/yaelfierro/cyp_2021/blob/main/Tarea_7.ipynb\" target=\"_parent\"><img src=\"https://colab.research.google.com/assets/colab-badge.svg\" alt=\"Open In Colab\"/></a>"
      ]
    },
    {
      "cell_type": "code",
      "metadata": {
        "colab": {
          "base_uri": "https://localhost:8080/",
          "height": 135
        },
        "id": "DObdj_RxKB6H",
        "outputId": "2710f932-5ed6-4c15-874b-186a71b54a2e"
      },
      "source": [
        "print(\"ingrese el total de paises del Sur, Centro y Norteamerica\")\r\n",
        "\r\n",
        "TPS=0\r\n",
        "TPC=0\r\n",
        "TPN=0\r\n",
        "\r\n",
        "if (TPS >= 1 and TPS <=30) and (TPC >= 1 and TPC <= 30) and (TPN >=1 and TPB <=30):\r\n",
        "  print(\"Ingrese los nombres de los paises de Sudamerica\")\r\n",
        "  I=1\r\n",
        " from I to 1 in range(TPS):\r\n",
        " print(\"Ingrese el nombre del pais\", I)\r\n",
        " SUR[I]\r\n",
        " I= I+1\r\n",
        "\r\n",
        " print(\"Ingrese los nombres de los países de Norteamerica\")\r\n",
        " I=1\r\n",
        " from 1 in range(TPN):\r\n",
        " print(\"Ingrese el nombre del pais\", I)\r\n",
        " NORTE[I]\r\n",
        " I= I+1\r\n",
        "\r\n",
        " PS=1\r\n",
        " PC=1\r\n",
        " PN=1\r\n",
        " PA=0\r\n",
        " while (PS <= TPS) and (PC <= TPC) and (PN <= TPN) :\r\n",
        "   PA= PA+1\r\n",
        "   if (SUR[PS] < CENTRO[PC]) and (SUR[PS] < NORTE[PN]):\r\n",
        "     AMERICA[PA]=SUR[PS] and PS=PS+1\r\n",
        "\r\n",
        "   else:\r\n",
        "     AMERICA[PA]=NORTE[PN] and PN=PN+1\r\n",
        "\r\n",
        "\r\n",
        "\r\n",
        "\r\n",
        "while (PS <= TPS) and (PN <= TPC):\r\n",
        "  PA= PA+1\r\n",
        "\r\n",
        "  if SUR[PS] < CENTRO[PC]:\r\n",
        "    AMERICA[PA]=SUR[PS] and PS= PS+1\r\n",
        "\r\n",
        "  else:\r\n",
        "    AMERICA[PA]= CENTRO[PC] and PC=PC+1\r\n",
        "\r\n",
        "\r\n",
        "while (PS <= TPS) and (PN <= TPN): \r\n",
        "  PA= PA+1\r\n",
        "\r\n",
        "  if SUR[PS] < NORTE[PN]:\r\n",
        "    AMERICA[PA]= SUR[PS] and PS= PS+1\r\n",
        "  else:\r\n",
        "    AMERICA[PA]= NORTE[PN] and PN=PN+1\r\n",
        "\r\n",
        "\r\n",
        "while (PC <= TPC) and (PN <= TPN):\r\n",
        "  PA= PA+1\r\n",
        "\r\n",
        "  if CENTRO[PC] <  NORTE[PN]:\r\n",
        "    AMERICA[PA]= CENTRO[PC] and PC= PC+1\r\n",
        "  else:\r\n",
        "    AMERICA[PA]= NORTE[PN] and PN= PN+1\r\n",
        "\r\n",
        "while (PS <= TPS):\r\n",
        "  PA= PA+1, AMERICA[PA]= SUR[PS] and PS= PS+1\r\n",
        "\r\n",
        "while (PC <= TPC):\r\n",
        "  PA= PA+1\r\n",
        "  AMERICA[PA]=CENTRO[PC]\r\n",
        "  PC= PC+1\r\n",
        "\r\n",
        "while (PN <= TPN):\r\n",
        "  PA= PA+1\r\n",
        "  AMERICA[PA]=NORTE[PN]\r\n",
        "  PN=PN+1\r\n",
        "\r\n",
        "  print(\"Arreglo America\")\r\n",
        "  I=1\r\n",
        "\r\n",
        "for I in range(PA):\r\n",
        "  print(f\"America[I]\")\r\n",
        "  I= I+1\r\n",
        "\r\n",
        "else:\r\n",
        "  print(\"Verifique el numero de paises integrados\")\r\n",
        "\r\n",
        "\r\n"
      ],
      "execution_count": 1,
      "outputs": [
        {
          "output_type": "error",
          "ename": "IndentationError",
          "evalue": "ignored",
          "traceback": [
            "\u001b[0;36m  File \u001b[0;32m\"<ipython-input-1-ddecbb531724>\"\u001b[0;36m, line \u001b[0;32m10\u001b[0m\n\u001b[0;31m    from I to 1 in range(TPS):\u001b[0m\n\u001b[0m                              ^\u001b[0m\n\u001b[0;31mIndentationError\u001b[0m\u001b[0;31m:\u001b[0m unindent does not match any outer indentation level\n"
          ]
        }
      ]
    },
    {
      "cell_type": "code",
      "metadata": {
        "id": "Ow60FDrfZmWZ"
      },
      "source": [
        ""
      ],
      "execution_count": null,
      "outputs": []
    }
  ]
}