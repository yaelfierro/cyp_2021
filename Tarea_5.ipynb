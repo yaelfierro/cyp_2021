{
  "nbformat": 4,
  "nbformat_minor": 0,
  "metadata": {
    "colab": {
      "name": "Tarea_5.ipynb",
      "provenance": [],
      "authorship_tag": "ABX9TyMwVIfYzABEDOzldHTLZvEY",
      "include_colab_link": true
    },
    "kernelspec": {
      "name": "python3",
      "display_name": "Python 3"
    }
  },
  "cells": [
    {
      "cell_type": "markdown",
      "metadata": {
        "id": "view-in-github",
        "colab_type": "text"
      },
      "source": [
        "<a href=\"https://colab.research.google.com/github/yaelfierro/cyp_2021/blob/main/Tarea_5.ipynb\" target=\"_parent\"><img src=\"https://colab.research.google.com/assets/colab-badge.svg\" alt=\"Open In Colab\"/></a>"
      ]
    },
    {
      "cell_type": "code",
      "metadata": {
        "id": "ZHfkDMY-bWVE"
      },
      "source": [
        "#Ejercicio 3.1\r\n",
        "\r\n",
        "NOMINA={SUE1+SUE2+SUE3+SUE4+SUE5+SUE6+SUE7+SUE8+SUE9+SUE10}\r\n",
        "\r\n",
        "for i in NOMINA:\r\n",
        "  if NOMINA <=10:\r\n",
        "    print(NOMINA+SUE)\r\n",
        "    "
      ],
      "execution_count": null,
      "outputs": []
    },
    {
      "cell_type": "code",
      "metadata": {
        "id": "bYYqf-ZphswR"
      },
      "source": [
        "#Ejercicio 3.4\r\n",
        "SUMGAS=int(\"introduce el gasto\")\r\n",
        "while SUMGAS<>-1:\r\n",
        "  print(\"Gasto no válido\")\r\n",
        "  SUMGAS=int(input(\"Introduce el gasto\"))\r\n",
        "print(\"El gasto es de:\")\r\n",
        "print(\"SUMGAS\"+str (SUMGAS))"
      ],
      "execution_count": null,
      "outputs": []
    }
  ]
}