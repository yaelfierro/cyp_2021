{
  "nbformat": 4,
  "nbformat_minor": 0,
  "metadata": {
    "colab": {
      "name": "Tarea_6.ipynb",
      "provenance": [],
      "authorship_tag": "ABX9TyPtk/kQktIg2O1xDPZ4OcBZ",
      "include_colab_link": true
    },
    "kernelspec": {
      "name": "python3",
      "display_name": "Python 3"
    }
  },
  "cells": [
    {
      "cell_type": "markdown",
      "metadata": {
        "id": "view-in-github",
        "colab_type": "text"
      },
      "source": [
        "<a href=\"https://colab.research.google.com/github/yaelfierro/cyp_2021/blob/main/Tarea_6.ipynb\" target=\"_parent\"><img src=\"https://colab.research.google.com/assets/colab-badge.svg\" alt=\"Open In Colab\"/></a>"
      ]
    },
    {
      "cell_type": "code",
      "metadata": {
        "id": "sp7KLZJVaptV"
      },
      "source": [
        "#Problema 3.3\r\n",
        "Serie=0\r\n",
        "N= float(input(\"Introduce un número\"))\r\n",
        "Band= \"T\" and \"I\"=1\r\n",
        "if Band=\"T\":\r\n",
        "  Serie+1 / 1 and Band=\"F\"\r\n",
        "  else:\r\n",
        "    Serie-1 /1 and Band=\"T\"\r\n",
        "I+1"
      ],
      "execution_count": null,
      "outputs": []
    },
    {
      "cell_type": "code",
      "metadata": {
        "id": "Mh6Iozrmc8X7"
      },
      "source": [
        "#Problema 3.4\r\n",
        "NOM=0\r\n",
        "SUE= float(input(\"Introduzca el sueldo\"))\r\n",
        "while(SUE<>-1):\r\n",
        "  if SUE < 1000:\r\n",
        "    NSUE= SUE*1.15\r\n",
        "    else:\r\n",
        "      NSUE=SUE*1.12\r\n"
      ],
      "execution_count": null,
      "outputs": []
    },
    {
      "cell_type": "code",
      "metadata": {
        "id": "-C8HJbk5exRS"
      },
      "source": [
        "#Problema 3.5\r\n",
        "SUMPOS=0\r\n",
        "CUEPOS=0\r\n",
        "SUMOTR=0\r\n",
        "\r\n",
        "I=1\r\n",
        "\r\n",
        "  if num >0:\r\n",
        "        SUMPOS=SUMPOS + num and CUEPOS= CUEPOS + 1\r\n",
        "        \r\n",
        "        else:\r\n",
        "          SUMOTR = SUMOTR + num\r\n",
        "      I= I+1\r\n",
        "PROGEN= (SUMPOS + SUMOTR)/N and PROPOS= SUMPOS/CUEPOS\r\n",
        "\r\n",
        "\r\n"
      ],
      "execution_count": null,
      "outputs": []
    },
    {
      "cell_type": "code",
      "metadata": {
        "id": "25ujAwnBlBSf"
      },
      "source": [
        "#Problema 3.6\r\n",
        "MAY= -100000 and MEN=100000\r\n",
        "\r\n",
        "I=1\r\n",
        "\r\n",
        "if num > MAY:\r\n",
        "  MAY=num\r\n",
        "\r\n",
        "if num < MEN:\r\n",
        "  MEN=num\r\n",
        "\r\n",
        "I= I+1\r\n",
        "\r\n",
        "print(f\"El mayor es:{MAY}\")\r\n",
        "print(f\"El menor es:{MEN}\")"
      ],
      "execution_count": null,
      "outputs": []
    },
    {
      "cell_type": "code",
      "metadata": {
        "id": "ZH_yzJuOm8z5"
      },
      "source": [
        "#Problema 3.7\r\n",
        "\r\n",
        "CHI=0\r\n",
        "MED=0\r\n",
        "GRA=0\r\n",
        "I=1\r\n",
        "\r\n",
        "if V <= 200:\r\n",
        "  CHI= CHI + 1\r\n",
        "  else:\r\n",
        "    if V < 400:\r\n",
        "      MED=MED + 1\r\n",
        "      else:\r\n",
        "        GRA= GRA + 1\r\n",
        "\r\n",
        "I= I+1\r\n",
        "print(f\"Las ventas chicas fueron:{CHI}\")\r\n",
        "print(f\"Las ventas medianas fueron:{MED}\")\r\n",
        "print(f\"Las ventas grandes fueron:{GRA}\")"
      ],
      "execution_count": null,
      "outputs": []
    },
    {
      "cell_type": "code",
      "metadata": {
        "id": "Ggsn9hcOpRoc"
      },
      "source": [
        "#Problema 3.8\r\n",
        "\r\n",
        "if num > 0:\r\n",
        "  while (num<>1):\r\n",
        "    print(\"Escribe un numero\")\r\n",
        "     if(-1**num) > 0:\r\n",
        "       num= num/2\r\n",
        "       else:\r\n",
        "         num= num*3 + 1\r\n",
        "\r\n",
        "print(f\"El numero es:{num}\")\r\n",
        "else:\r\n",
        "  print(\"El número tiene que ser positivo\")"
      ],
      "execution_count": null,
      "outputs": []
    },
    {
      "cell_type": "code",
      "metadata": {
        "id": "1Ro2Br8etUKt"
      },
      "source": [
        "#Problema 3.9\r\n",
        "\r\n",
        "Serie=0\r\n",
        "\r\n",
        "I=1\r\n",
        "\r\n",
        "Serie=Serie + I**I and I= I+1\r\n",
        "\r\n",
        "print(f\"{Serie}\")"
      ],
      "execution_count": null,
      "outputs": []
    },
    {
      "cell_type": "code",
      "metadata": {
        "id": "a5NwxiRGsRsL"
      },
      "source": [
        "#Problema 3.10\r\n",
        "\r\n",
        "pri=0\r\n",
        "seg=1\r\n",
        "I=3\r\n",
        "\r\n",
        "sig=pri + seg, pri=seg, seg=sig and I= I + 1\r\n",
        "\r\n",
        "print(f\"{sig}\")\r\n"
      ],
      "execution_count": null,
      "outputs": []
    },
    {
      "cell_type": "code",
      "metadata": {
        "colab": {
          "base_uri": "https://localhost:8080/",
          "height": 135
        },
        "id": "Ms3VfLzMtJYb",
        "outputId": "0aca8ea8-693a-4c8f-b617-c136283a9bf8"
      },
      "source": [
        "#Problema 3.11\r\n",
        "\r\n",
        "CAN1=0\r\n",
        "CAN2=0\r\n",
        "CAN3=0\r\n",
        "CAN4=0\r\n",
        "\r\n",
        "while (voto <> 0):\r\n",
        "  if voto=:\r\n",
        "    CAN1= CAN1+1\r\n",
        "    CAN2= CAN2+1\r\n",
        "    CAN3= CAN3+1\r\n",
        "    CAN4= CAN4+1\r\n",
        "\r\n",
        "sumv=CAN1+CAN2+CAN3+CAN4\r\n",
        "\r\n",
        "por1=(CAN1/sumv)*100\r\n",
        "por2=(CAN2/sumv)*100, por3=(CAN3/sumv)*100 and\r\n",
        "por4=(CAN4/sumv)*100\r\n",
        "\r\n",
        "print(\"Votos Candidato 1:\",CAN1, \"Porcentaje:\", por1)\r\n",
        "print(\"Votos Candidato 2:\",CAN2, \"Porcentaje:\", por2)\r\n",
        "print(\"Votos Candidato 3:\",CAN3, \"Porcentaje:\", por3)\r\n",
        "print(\"Votos Candidato 4:\",CAN4, \"Porcentaje:\", por4)\r\n",
        "print(\"Cantidad de votantes:\", sumv)\r\n",
        "\r\n"
      ],
      "execution_count": null,
      "outputs": [
        {
          "output_type": "error",
          "ename": "SyntaxError",
          "evalue": "ignored",
          "traceback": [
            "\u001b[0;36m  File \u001b[0;32m\"<ipython-input-4-4d60a74f6de0>\"\u001b[0;36m, line \u001b[0;32m8\u001b[0m\n\u001b[0;31m    while (voto <> 0):\u001b[0m\n\u001b[0m                 ^\u001b[0m\n\u001b[0;31mSyntaxError\u001b[0m\u001b[0;31m:\u001b[0m invalid syntax\n"
          ]
        }
      ]
    },
    {
      "cell_type": "code",
      "metadata": {
        "id": "BKRaPsbJwnhB"
      },
      "source": [
        "#Problema 3.12\r\n",
        "\r\n",
        "masue=0\r\n",
        "\r\n",
        "I=1\r\n",
        "\r\n",
        "if SUE > masue:\r\n",
        "  masue= SUE and MANUM=NUMEMP\r\n",
        "\r\n",
        "I= I+1\r\n",
        "\r\n",
        "print(f\"{MANUM}\")\r\n",
        "print(f\"{masue}\")"
      ],
      "execution_count": null,
      "outputs": []
    },
    {
      "cell_type": "code",
      "metadata": {
        "id": "6mFI1-YYymgl"
      },
      "source": [
        "#Problema 3.13\r\n",
        "\r\n",
        "arno=0\r\n",
        "arce=0\r\n",
        "arsu=0\r\n",
        "mersu=500000\r\n",
        "I=1\r\n",
        "\r\n",
        "for I in range (12):\r\n",
        "  rno=float(input(\"Introduce una cantidad\"))\r\n",
        "  rce=float(input(\"Introduce una cantidad\"))\r\n",
        "  rsu=float(input(\"Introduce una cantidad\"))\r\n",
        "  arno= arno+rno, arce\r\n",
        "  arsu= arsu + rsu\r\n",
        "\r\n",
        "if rsu < mersu:\r\n",
        "  mersu= rsu and mes=1\r\n",
        "\r\n",
        "I= I+1\r\n",
        "\r\n",
        "prorce= arce/12\r\n",
        "\r\n",
        "print(\"Promedio region:\", prorce)\r\n",
        "print(\"Mes con menor lluvia region sur:\", mes)\r\n",
        "print(\"Registro del mes:\", mersu)\r\n",
        "\r\n",
        "if arno > arce:\r\n",
        "  if arno > arsu:\r\n",
        "    print(\"La región con mayor lluvia es la norte\")\r\n",
        "    else:\r\n",
        "      print(\"La región con mayor lluvia es la sur\")\r\n",
        "  else:\r\n",
        "    if arce > arsu:\r\n",
        "      print(\"La región con mayor lluvia es la centro\")\r\n",
        "      else:\r\n",
        "        print(\"La region con mayor lluvia es la sur\")"
      ],
      "execution_count": null,
      "outputs": []
    },
    {
      "cell_type": "code",
      "metadata": {
        "id": "1FuIgTyA2gYG"
      },
      "source": [
        "#Problema 3.14\r\n",
        "\r\n",
        "AP1=0\r\n",
        "AP2=0\r\n",
        "AP3=0\r\n",
        "AP4=0\r\n",
        "AP5=0\r\n",
        "RECAU=0\r\n",
        "\r\n",
        "P1=float(input(\"Introduce un precio\"))\r\n",
        "P2=float(input(\"Introduce un precio\"))\r\n",
        "P3=float(input(\"Introduce un precio\"))\r\n",
        "P4=float(input(\"Introduce un precio\"))\r\n",
        "P5=float(input(\"Introduce un precio\"))\r\n",
        "\r\n",
        "CLAVE=float(input(\"Introduce una clave\"))\r\n",
        "CANT=float(input(\"Introduce una cantidad\"))\r\n",
        "\r\n",
        "while (CLAVE < > -1) and (CANT < > -1):\r\n",
        "  print(\"Inválida\")\r\n",
        "\r\n",
        "if CLAVE=:\r\n",
        "  PRE= P1* CANT and AP1= AP1 + CANT\r\n",
        "  PRE= P2* CANT and AP2= AP2 + CANT\r\n",
        "  PRE= P3* CANT and AP3= AP3 + CANT\r\n",
        "  PRE= P4* CANT and AP4= AP4 + CANT\r\n",
        "  PRE= P5* CANT and AP5= AP5 + CANT\r\n",
        "\r\n",
        "  print(f\"{CLAVE}\")\r\n",
        "  print(f\"{CANT}\")\r\n",
        "  print(f\"{PRE}\")\r\n",
        "\r\n",
        "  RECAU= RECAU + PRE\r\n",
        "  CLAVE=int\r\n",
        "  CANT=int\r\n",
        "\r\n",
        "print(\"Cantidad de boletos tipo 1:\", AP1)\r\n",
        "print(\"Cantidad de boletos tipo 2:\", AP2)\r\n",
        "print(\"Cantidad de boletos tipo 3:\", AP3)\r\n",
        "print(\"Cantidad de boletos tipo 4:\", AP4)\r\n",
        "print(\"Cantidad de boletos tipo 5:\", AP5)\r\n",
        "print(\"Recaudación del estadio:\", RECAU)"
      ],
      "execution_count": null,
      "outputs": []
    },
    {
      "cell_type": "code",
      "metadata": {
        "id": "UYwssZqv7hz2"
      },
      "source": [
        "#Problema 3.15\r\n",
        "\r\n",
        "CL=0\r\n",
        "CUENTA=0\r\n",
        "\r\n",
        "TIPO=float(input(\"Introduzca el tipo de llamada\"))\r\n",
        "DUR=float(input(\"Introduzca la duración\"))\r\n",
        "\r\n",
        "while (TIPO < > \"X\") and (DUR < > -1):\r\n",
        "  print(\"Inválido\")\r\n",
        "\r\n",
        "  if TIPO= I:\r\n",
        "    if DUR > 3:\r\n",
        "      COSTO=7.59 + ((DUR-3)*3.03)\r\n",
        "      else:\r\n",
        "        COSTO=7.59\r\n",
        "    \"L\": CL= CL+1\r\n",
        "    if CL > 50:\r\n",
        "      COSTO= 0.60\r\n",
        "      else:\r\n",
        "        COSTO=0\r\n",
        "\r\n",
        "    \"N\":\r\n",
        "    if DUR > 3:\r\n",
        "      COSTO= 1.20+ ((DUR-3)*0.48)\r\n",
        "      else:\r\n",
        "        COSTO=1.20\r\n",
        "\r\n",
        "    CUENTA=CUENTA + COSTO\r\n",
        "\r\n",
        "  print(f\"{CUENTA}\")"
      ],
      "execution_count": null,
      "outputs": []
    },
    {
      "cell_type": "code",
      "metadata": {
        "id": "TXYhjeUD-Q5E"
      },
      "source": [
        "#Problema 3.16\r\n",
        "\r\n",
        "TIPO1=0\r\n",
        "TIPO2=0\r\n",
        "TIPO3=0\r\n",
        "TIPO4=0\r\n",
        "TIPO5=0\r\n",
        "\r\n",
        "N= float(input(\"Introduzca los años\"))\r\n",
        "\r\n",
        "I=1\r\n",
        "\r\n",
        "for I in range (N):\r\n",
        "  TOTVIN= 0 and J=1\r\n",
        "  V=float(input(\"Intrduzca el total de vino\"))\r\n",
        "  TOTVIN=TOTVIN + V\r\n",
        "  if J=:\r\n",
        "    TIPO1= TIPO1 + V\r\n",
        "    TIPO2= TIPO2 + V\r\n",
        "  if V > MCTIPO2:\r\n",
        "    MCTIPO2=V and AÑO=1\r\n",
        "  TIPO3=TIPO3 + V\r\n",
        "  if (V=0):\r\n",
        "    print(\"En el año\", I, \"No se produjo vino TIPO3\")\r\n",
        "  TIPO4=TIPO4 + V\r\n",
        "  TIPO5=TIPO5 + V\r\n",
        "\r\n",
        "  J=J+1\r\n",
        "\r\n",
        "  print(\"Total de vinos producidos por año:\", TOTVIN)\r\n",
        "\r\n",
        "  I=I+1\r\n",
        "\r\n",
        "  print(\"Total TIPO1:\", TIPO1)\r\n",
        "\r\n",
        "  print(\"Total TIPO2:\", TIPO2)\r\n",
        "\r\n",
        "  print(\"Total TIPO3:\", TIPO3)\r\n",
        "\r\n",
        "  print(\"Total TIPO4:\", TIPO4)\r\n",
        "\r\n",
        "  print(\"Total TIPO5:\", TIPO5)\r\n",
        "\r\n",
        "  print(\"Año en que se produjo mayor cantidad de vino TIPO2:\", AÑO, \"Litros:\", MCTIPO2)"
      ],
      "execution_count": null,
      "outputs": []
    },
    {
      "cell_type": "code",
      "metadata": {
        "id": "BqgFe71kjNDH"
      },
      "source": [
        "#Problema 3.17\r\n",
        "\r\n",
        "I=3\r\n",
        "SP=0\r\n",
        "M=float(input(\"Introduce un número\"))\r\n",
        "\r\n",
        "if M>=1:\r\n",
        "  SP=SP + 1\r\n",
        "  print(\"Número primo\", 1)\r\n",
        "  if M > 2:\r\n",
        "    SP=SP+ 1\r\n",
        "    print(\"Numero primo:\", 2)\r\n",
        "\r\n",
        "while I < =M:\r\n",
        "  BAND=V and J=3\r\n",
        "  while (J < (I / 2)) and (BAND= V):\r\n",
        "    if (I*J)=0:\r\n",
        "      BAND= F\r\n",
        "\r\n",
        "      J= J+2\r\n",
        "\r\n",
        "  if (BAND= V):\r\n",
        "    print(\"Numero primo\", I)\r\n",
        "    SP=SP + 1\r\n",
        "\r\n",
        "    I= I+2\r\n",
        "\r\n",
        "    print(\"Entre 1 y M hay\", SP, \"Numeros primos\")\r\n",
        "\r\n"
      ],
      "execution_count": null,
      "outputs": []
    },
    {
      "cell_type": "code",
      "metadata": {
        "id": "VGaEzQRVdspz"
      },
      "source": [
        "#Problema 3.18\r\n",
        "\r\n",
        "MAYPRO=0\r\n",
        "N=float(input(\"Introduce el numero de fabricas\"))\r\n",
        "\r\n",
        "if N < = 1000:\r\n",
        "  I=1\r\n",
        "  FABRICA=float\r\n",
        "  TOTANU=0 and J=1\r\n",
        "\r\n",
        "  MES=float\r\n",
        "  TOTANU=TOTANU + MES\r\n",
        "\r\n",
        "  if(J=7) and (MES > 3000000):\r\n",
        "    print(\"Fabrica\")\r\n",
        "\r\n",
        "    J= J+1\r\n",
        "\r\n",
        "  if TOTANU > MAYPRO:\r\n",
        "    MAYPRO=TOTANU and CLAVE=FABRICA\r\n",
        "\r\n",
        "    print(\"Produccion anual fabrica:\", FABRICA, \":$\", TOTANU)\r\n",
        "\r\n",
        "  I= I+1\r\n",
        "\r\n",
        "  print(\"Fabrica que produjo mas este año:\", CLAVE, \"Produccion: $\", MAYPRO)\r\n",
        "\r\n",
        "  else:\r\n",
        "    print(\"Error en número de fabricas\")"
      ],
      "execution_count": null,
      "outputs": []
    },
    {
      "cell_type": "code",
      "metadata": {
        "id": "oqKjiHicgRWs"
      },
      "source": [
        "#Problema 3.19\r\n",
        "\r\n",
        "N=float(input(\"Introduce un numero\"))\r\n",
        "\r\n",
        "I=1\r\n",
        "for I in range (N):\r\n",
        "  SUM=0 and J=1\r\n",
        "  for J from 1 in range (1 / 2):\r\n",
        "    if (I**J)=0:\r\n",
        "      SUM=SUM + J\r\n",
        "      J= J+1\r\n",
        "\r\n",
        "  if SUM=1:\r\n",
        "    print(I, \"Es un numero perfecto\")\r\n",
        "    I=I+1\r\n",
        "    \r\n",
        "\r\n"
      ],
      "execution_count": null,
      "outputs": []
    }
  ]
}