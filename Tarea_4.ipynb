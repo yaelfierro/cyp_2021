{
  "nbformat": 4,
  "nbformat_minor": 0,
  "metadata": {
    "colab": {
      "name": "Tarea-4.ipynb",
      "provenance": [],
      "authorship_tag": "ABX9TyMXUXR/XM10PXQE7aSaF3Qk",
      "include_colab_link": true
    },
    "kernelspec": {
      "name": "python3",
      "display_name": "Python 3"
    }
  },
  "cells": [
    {
      "cell_type": "markdown",
      "metadata": {
        "id": "view-in-github",
        "colab_type": "text"
      },
      "source": [
        "<a href=\"https://colab.research.google.com/github/yaelfierro/cyp_2021/blob/main/Tarea_4.ipynb\" target=\"_parent\"><img src=\"https://colab.research.google.com/assets/colab-badge.svg\" alt=\"Open In Colab\"/></a>"
      ]
    },
    {
      "cell_type": "code",
      "metadata": {
        "colab": {
          "base_uri": "https://localhost:8080/"
        },
        "id": "1BKcCbPxYpNa",
        "outputId": "4e05d098-aa28-489e-b88c-ece2acc5864b"
      },
      "source": [
        "#Ejercicio 2.4\n",
        "SUE= input()\n",
        "SUE=float\n",
        "print(\"ingrese el sueldo del trabajador\")\n",
        "\n",
        "if (SUE<1000):\n",
        "  pago=SUE * 1.15\n",
        "  print(\"el sueldo final es $\", pago)\n",
        "\n",
        "else:\n",
        "  pago= 1.12 * SUE\n",
        "  print(\"el sueldo final es $\", pago)\n"
      ],
      "execution_count": 1,
      "outputs": [
        {
          "output_type": "stream",
          "text": [
            "ingrese el sueldo del trabajador\n"
          ],
          "name": "stdout"
        }
      ]
    },
    {
      "cell_type": "code",
      "metadata": {
        "id": "oIJSJU2xcpXo"
      },
      "source": [
        "#Ejercicio 2.8\n",
        "\n",
        "print(\"Ingrese la categoría del trabajador\")\n",
        "CATE= input()\n",
        "SUE=input()\n",
        "SUE=float(SUE)\n",
        "\n",
        "if(CATE=1):\n",
        "  pago=SUE * 1.15\n",
        "  print(\"el sueldo es de $\", pago)\n",
        "\n",
        "elif(CATE=2):\n",
        "  pago=SUE * 1.10\n",
        "  print(\"el sueldo es de $\", pago)\n",
        "\n",
        "elif(CATE=3):\n",
        "  pago=SUE * 1.08\n",
        "  print(\"el sueldo es de $\", pago)\n",
        "\n",
        "elif(CATE=4):\n",
        "  pago=SUE * 1.07\n",
        "  print(\"el sueldo es de $\", pago)"
      ],
      "execution_count": null,
      "outputs": []
    }
  ]
}