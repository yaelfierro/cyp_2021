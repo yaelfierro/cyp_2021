{
  "nbformat": 4,
  "nbformat_minor": 0,
  "metadata": {
    "colab": {
      "name": "08-12-2020.ipnyb",
      "provenance": [],
      "authorship_tag": "ABX9TyNc/vZlM+1zZ+WiOOAII9YC",
      "include_colab_link": true
    },
    "kernelspec": {
      "name": "python3",
      "display_name": "Python 3"
    }
  },
  "cells": [
    {
      "cell_type": "markdown",
      "metadata": {
        "id": "view-in-github",
        "colab_type": "text"
      },
      "source": [
        "<a href=\"https://colab.research.google.com/github/yaelfierro/cyp_2021/blob/main/08_12_2020_ipnyb.ipynb\" target=\"_parent\"><img src=\"https://colab.research.google.com/assets/colab-badge.svg\" alt=\"Open In Colab\"/></a>"
      ]
    },
    {
      "cell_type": "code",
      "metadata": {
        "id": "Bb_UNAgpWtIJ"
      },
      "source": [
        "a=20\r\n",
        "while (a>10):\r\n",
        "  print(f\"A = {a}\")\r\n",
        "  a=a-1   #a-1"
      ],
      "execution_count": null,
      "outputs": []
    },
    {
      "cell_type": "code",
      "metadata": {
        "id": "nCoM4NsKacPP"
      },
      "source": [
        "SUMGAS=0\r\n",
        "GAS= float(input(\"Introduce un gasto:\"))\r\n",
        "while(gasto<>-1):\r\n",
        "  SUMGAS= SUMGAS + GAS #SUMGAS += 1\r\n",
        "  gasto=float(input(\"Introduce un gasto:\"))\r\n",
        "print (f\"La suma total es {SUMGAS} pesos\")"
      ],
      "execution_count": null,
      "outputs": []
    },
    {
      "cell_type": "code",
      "metadata": {
        "id": "AItnO8MKcGfZ"
      },
      "source": [
        "cubo=0\r\n",
        "num=float(input(\"Introduce un numero:\"))\r\n",
        "while (num !=-1):\r\n",
        "  cubo=num**3\r\n",
        "  print(f\"El cubo del numero es {cubo}\")\r\n",
        "  num=float(input(\"Introduce un numero:\"))\r\n",
        "print(\"Fin del programa\")\r\n"
      ],
      "execution_count": null,
      "outputs": []
    },
    {
      "cell_type": "code",
      "metadata": {
        "id": "_n989THRduEK"
      },
      "source": [
        "#problema 3.1\r\n",
        "\r\n",
        "sumpar=0\r\n",
        "sumimp=0\r\n",
        "cuepar=0\r\n",
        "\r\n",
        "I=1\r\n",
        "\r\n",
        "while I<= 5:\r\n",
        "  num= int(input(\"Introduce un numero entero:\"))\r\n",
        "  if num <>=0:\r\n",
        "    if ((-1)**num) > 0: #num\r\n",
        "        sumpar=sumpar + num\r\n",
        "        cuepar=cuepar + 1\r\n",
        "        else:\r\n",
        "          sumimp = sumimp + num\r\n",
        "      I= I+1\r\n",
        "propar= sumpar / cuepar\r\n",
        "print(f\"El promedio de los pares es: {propar}\")\r\n",
        "print((f\"La suma de los impares es:{sumimp}\"))"
      ],
      "execution_count": null,
      "outputs": []
    },
    {
      "cell_type": "code",
      "metadata": {
        "id": "oHgpAHLKjpKE"
      },
      "source": [
        "band= True\r\n",
        "sumser=0\r\n",
        "I= 2\r\n",
        "while I>= 1800:\r\n",
        "  sumser= sumser+I\r\n",
        "  print(f\"{I}, \", end=\"\")\r\n",
        "  if band== True:\r\n",
        "    band= False\r\n",
        "    I= I+2\r\n",
        "    else:\r\n",
        "      band= True\r\n",
        "      I= I+2\r\n",
        "print(\"La suma de la serie es\" , sumser)"
      ],
      "execution_count": null,
      "outputs": []
    },
    {
      "cell_type": "code",
      "metadata": {
        "id": "PpBkwx-7qN3Z"
      },
      "source": [
        "s1=0\r\n",
        "s2=0\r\n",
        "s3=0\r\n",
        "#...\r\n",
        "s70=0\r\n",
        "\r\n",
        "s1= float(input(\"dame el sueldo\"))\r\n",
        "s2= float(input(\"dame el sueldo\"))\r\n",
        "s3= float(input(\"dame el sueldo\"))\r\n",
        "#...\r\n",
        "s70= float(input(\"dame el sueldo\")\r\n"
      ],
      "execution_count": null,
      "outputs": []
    },
    {
      "cell_type": "code",
      "metadata": {
        "id": "25nFK7xcrL2w"
      },
      "source": [
        "# Ejemplos de arreglos\r\n",
        "\"\"\"\r\n",
        "En python no existe el tipo especial de arreglo.\r\n",
        "En su lugar existe el tipo de dato nativo list que\r\n",
        "funciona de manera muy semejante\r\n",
        "Ejemplo: declarar un arreglo de 70 elementos de tipo float para almacenar\r\n",
        "sueldos.\r\n",
        "\"\"\"\r\n",
        "sueldos= [0 for x in range(7)]\r\n",
        "print(sueldos)\r\n",
        "sueldos[0] =200.5\r\n",
        "print(sueldos)"
      ],
      "execution_count": null,
      "outputs": []
    },
    {
      "cell_type": "code",
      "metadata": {
        "id": "MCaiALP_uChW"
      },
      "source": [
        "S= [0.0 for x in range(70)] #Generador de python\r\n",
        "for j in range (70):\r\n",
        "  s[j]= float(input(\"introduce un sueldo:\"))\r\n",
        "  print(s)\r\n",
        "\r\n",
        "print(\"-----------\")\r\n",
        "for j in range (7):\r\n",
        "  print(s[j])"
      ],
      "execution_count": null,
      "outputs": []
    },
    {
      "cell_type": "code",
      "metadata": {
        "id": "hCnEVqgcwUSf"
      },
      "source": [
        ""
      ],
      "execution_count": null,
      "outputs": []
    }
  ]
}