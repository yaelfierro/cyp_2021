{
  "nbformat": 4,
  "nbformat_minor": 0,
  "metadata": {
    "colab": {
      "name": "01_12_2020.ipynb",
      "provenance": [],
      "authorship_tag": "ABX9TyMdVdaMH9IDk87Sdr0wNdwj",
      "include_colab_link": true
    },
    "kernelspec": {
      "name": "python3",
      "display_name": "Python 3"
    }
  },
  "cells": [
    {
      "cell_type": "markdown",
      "metadata": {
        "id": "view-in-github",
        "colab_type": "text"
      },
      "source": [
        "<a href=\"https://colab.research.google.com/github/yaelfierro/cyp_2021/blob/main/01_12_2020.ipynb\" target=\"_parent\"><img src=\"https://colab.research.google.com/assets/colab-badge.svg\" alt=\"Open In Colab\"/></a>"
      ]
    },
    {
      "cell_type": "code",
      "metadata": {
        "id": "2trlgBcBTul8"
      },
      "source": [
        "#Ejemplo 1\n",
        "#Pedir 3 numeros enteros y mostrar el mayor de los 3\n",
        "\n",
        "numero1= int(input(\"introduce el primer numero\"))\n",
        "numero2= int(input(\"introduce el segundo numero\"))\n",
        "numero3= int(input(\"introduce el tercer numero\"))\n",
        "\n",
        "if primerNumero == segundoNumero and primerNumero == tercerNumero :\n",
        "    print(\"Todos los numeros son iguales\")\n",
        "elif primerNumero > segundoNumero :\n",
        "    if primerNumero > tercerNumero:\n",
        "        print(f\"El numero {primerNumero} es el mayor.\")\n",
        "    else :\n",
        "        print(f\"El numero {tercerNumero} es el mayor.\")\n",
        "else :\n",
        "    if segundoNumero > tercerNumero:\n",
        "      print (f\"el numero \")\n",
        "  "
      ],
      "execution_count": null,
      "outputs": []
    },
    {
      "cell_type": "code",
      "metadata": {
        "id": "nA5XZcbbVwa_"
      },
      "source": [
        "#ejemplo 2\n",
        "print(\"ingrese el nombre del trabajador\")\n",
        "nombre=input()\n",
        "print(\"cuantas horas trabajó esta semana\", nombre, \":\")\n",
        "horas=input()\n",
        "horas=int(horas)\n",
        "print(\"Cuanto se paga por hora?:\")\n",
        "sueldoH=input()\n",
        "sueldo=float(sueldoH)\n",
        "\n",
        "#Evaluar el sueldo\n",
        "\n",
        "if(horas>=40) :\n",
        "  pago=horas * sueldoH\n",
        "  print(\"el sueldo final final de \", nombre , \"Es $\", pago)\n",
        "\n",
        "  else:\n",
        "    extras=horas-40\n",
        "    pago=40 * sueldoH\n",
        "    pagoFinal=pago +((extras * sueldoH) * 2)\n",
        "    print(\"el sueldo final de\" , nombre , \"Es $\" , pago final)"
      ],
      "execution_count": null,
      "outputs": []
    },
    {
      "cell_type": "code",
      "metadata": {
        "id": "4gwqisqcZGjc"
      },
      "source": [
        "#Ejemplo 3\n",
        "#Calcular el salario semanal de x trabajador\n",
        "#El salario semanal se calcula en base a las horas semanales trabajadas\n",
        "#El pago por hora es variable (se pide por teclado)\n",
        "#Si las horas trabajadas superan las 40 horas, el pago por hora extra es:\n",
        "#Doble en el rango de 41horas a 50horas\n",
        "#Triple en el rango de 51horas a 60 horas\n",
        "#Incentivo de $2000 si rebasa las 60 horas.\n",
        "\n",
        "print(\"ingrese el nombre del trabajador\")\n",
        "nombre=input()\n",
        "print(\"cuantas horas trabajó esta semana\", nombre, \":\")\n",
        "horas=input()\n",
        "horas=int(horas)\n",
        "print(\"Cuanto se paga por hora?:\")\n",
        "sueldoH=input()\n",
        "sueldo=float(sueldoH)\n",
        "\n",
        "#Evaluar el sueldo\n",
        "\n",
        "if(horas<=40):\n",
        "  pago=horas * sueldoH\n",
        "  print(\"El sueldo final de :\" , nombre , \"Es $\" , pago)\n",
        "\n",
        "elif(horas > 40 and horas <= 50):\n",
        "  extrasDobles=horas-40\n",
        "  print(\"Horas extras dobles:\" , extrasDobles)\n",
        "  pago=40*sueldoH\n",
        "  print(\"sueldo base:$\",pago)\n",
        "  pagoDoble=extrasDobles * (sueldoH*2)\n",
        "  print(\"Pago de horas dobles: $\",pagoDoble)\n",
        "  pagoFinal=pagoDoble+pago\n",
        "  print(nombre, \",su sueldo total es de $\", pagoFinal)\n",
        "\n",
        "  elif (horas >50 and horas <=60):\n",
        "    extrasTriples=horas=50\n",
        "    print(\"horas extra dobles: 10\")\n",
        "    print(\"horas extra triples:\",extraTriples)\n",
        "    pago=40 * sueldoH\n",
        "    print(\"sueldo base:$\" , pago)\n",
        "    pagoDoble=10*sueldoH*2\n",
        "    print(\"pago de horas extra dobles:\" , pagoDoble)\n",
        "    pagoTriple=extrasTriples *sueldoH *3\n",
        "    print(\"pago de horas extra triples:\" ,pagoTriple)\n",
        "    pagoFinal=pago+pagoDoble+pagoTriple\n",
        "    print(\"El sueldo de\",nombre,\"es $\", pagoFinal)\n",
        "\n",
        "else:\n",
        "  extrasTriples=10\n",
        "  print(\"Horase extra dobles 10\")\n",
        "  print(\"horas extra triples 10\")\n",
        "  pago= 40*sueldoH\n",
        "  print(\"Sueldo Base:$\",pago)\n",
        "  pagoDoble=10*sueldoH*2\n",
        "  print(\"Pago de horas extra Dobles\", pagoDoble)\n",
        "  pagoTriple=extrasTriples *sueldoH *3\n",
        "  print(\"pago horas extra triples:\", pagoTriple)\n",
        "  print(\"Incentivo por trabajar mas de 60 horas:$ $2000\")\n",
        "  pagoFinal= pago+pagoDoble+pagoTriple+2000\n",
        "  print(\"El sueldo Final de : \" ,nombre , \"Es $\", pagoFinal)\n",
        "\n",
        "\n",
        "  "
      ],
      "execution_count": null,
      "outputs": []
    },
    {
      "cell_type": "code",
      "metadata": {
        "id": "R7s2nkEdosy3"
      },
      "source": [
        "#Estructura FOR\n",
        "\n",
        "  #Ejemplo 1\n",
        "for estaciones_año  in [\"primavera\", \"verano\", \"otoño\", \"invierno\"]:#La palabra reservada, elemento a recorrer\n",
        "  print(estaciones_año)\n",
        "\n",
        "#variables que suelen formar parte de FOR sn \"i\""
      ],
      "execution_count": null,
      "outputs": []
    },
    {
      "cell_type": "code",
      "metadata": {
        "id": "SBWnADRGqaxN"
      },
      "source": [
        ""
      ],
      "execution_count": null,
      "outputs": []
    }
  ]
}