{
  "nbformat": 4,
  "nbformat_minor": 0,
  "metadata": {
    "colab": {
      "name": "07_enero_2021.ipynb",
      "provenance": [],
      "authorship_tag": "ABX9TyNqKX8SKKhcHyiuCybEc0yt",
      "include_colab_link": true
    },
    "kernelspec": {
      "name": "python3",
      "display_name": "Python 3"
    }
  },
  "cells": [
    {
      "cell_type": "markdown",
      "metadata": {
        "id": "view-in-github",
        "colab_type": "text"
      },
      "source": [
        "<a href=\"https://colab.research.google.com/github/yaelfierro/cyp_2021/blob/main/07_enero_2021.ipynb\" target=\"_parent\"><img src=\"https://colab.research.google.com/assets/colab-badge.svg\" alt=\"Open In Colab\"/></a>"
      ]
    },
    {
      "cell_type": "code",
      "metadata": {
        "id": "q1VNHwUz2ju1"
      },
      "source": [
        "REN= 3\r\n",
        "COL= 5\r\n",
        "VEC= [[0 for x in range(COL)] for x in range(REN)]\r\n",
        "print(VEC)\r\n",
        "VEC[1][2]=15\r\n",
        "print(VEC)\r\n",
        "\r\n",
        "print(\"Automatizar el recorrido del arreglo\")\r\n",
        "for i in range(REN):\r\n",
        "  for j in range(COL):\r\n",
        "    print(f\"{i},{j} = {VEC[i][j]}\")"
      ],
      "execution_count": null,
      "outputs": []
    },
    {
      "cell_type": "code",
      "metadata": {
        "id": "ls-h0LuZFAHA"
      },
      "source": [
        "estados= int (input(\"Cuantos estados son?: \"))\r\n",
        "lluvias_men_est= [ [0 for x in range(12)] for x in range(estados)]\r\n",
        "print(lluvias_men_est)\r\n",
        "for i in range(estados):\r\n",
        "  for j in range(12):\r\n",
        "    aux= int(input(\"Dame el siguiente valor:\"))\r\n",
        "    lluvias_men_est[i][j]= aux\r\n",
        "print(lluvias_men_est)\r\n",
        "\r\n",
        "print(\"promedio de lluvias en los estados:\")\r\n",
        "suma=0\r\n",
        "for i in range(estados):\r\n",
        "  for j in range(12):\r\n",
        "    mensaje=\"dame el valor del estado\", str(i+1), \"del mes\", str(j+1), \":\"\r\n",
        "    aux= int(input(mensaje))\r\n",
        "    lluvias_men_est[i][j]=aux\r\n",
        "    suma= suma + lluvias_men:est[i][j]\r\n",
        "print(f\"El promedio de las lluvias en el estado {i+1} es {suma/12}\")"
      ],
      "execution_count": null,
      "outputs": []
    }
  ]
}