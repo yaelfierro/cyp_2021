{
  "nbformat": 4,
  "nbformat_minor": 0,
  "metadata": {
    "colab": {
      "name": "12_enero_2021.ipynb",
      "provenance": [],
      "authorship_tag": "ABX9TyOtC1hYokKc/TSN4tuPkLS3",
      "include_colab_link": true
    },
    "kernelspec": {
      "name": "python3",
      "display_name": "Python 3"
    }
  },
  "cells": [
    {
      "cell_type": "markdown",
      "metadata": {
        "id": "view-in-github",
        "colab_type": "text"
      },
      "source": [
        "<a href=\"https://colab.research.google.com/github/yaelfierro/cyp_2021/blob/main/12_enero_2021.ipynb\" target=\"_parent\"><img src=\"https://colab.research.google.com/assets/colab-badge.svg\" alt=\"Open In Colab\"/></a>"
      ]
    },
    {
      "cell_type": "code",
      "metadata": {
        "id": "_m2hRcvKmOLV",
        "colab": {
          "base_uri": "https://localhost:8080/",
          "height": 135
        },
        "outputId": "86be4f39-50d4-423c-85e7-72acd094acb0"
      },
      "source": [
        "#Introduccion a Python\r\n",
        "-Creado en los 90 por Guido Van R.\r\n",
        "-En el 2000 Python mejora y tiene nuevas características\r\n",
        "-En el 2020 deja de ser la versión oficial pythn 2.7 y solo se le dará soporte a python 3 en adelante\r\n",
        "\r\n",
        "##Características de Python\r\n",
        "1.-Lenguaje de propósito general\r\n",
        "2.-Interpretado y no-compilado\r\n",
        "3.-Tipos de datos dinámicos. (numéricos, cadena, booleanos, etc)\r\n",
        "4.-Multiplataforma\r\n",
        "5.-Lenguaje multi-paradigma. (Imperativa, POO y funcional)\r\n",
        "6.-Código estructurado por identación\r\n",
        "\r\n",
        "##Principios Zen de Python\r\n",
        "\r\n",
        "Son las características que guian el diseño del lenguaje de programación de Python"
      ],
      "execution_count": null,
      "outputs": [
        {
          "output_type": "error",
          "ename": "SyntaxError",
          "evalue": "ignored",
          "traceback": [
            "\u001b[0;36m  File \u001b[0;32m\"<ipython-input-1-d6380e25059e>\"\u001b[0;36m, line \u001b[0;32m2\u001b[0m\n\u001b[0;31m    -Creado en los 90 por Guido Van R.\u001b[0m\n\u001b[0m             ^\u001b[0m\n\u001b[0;31mSyntaxError\u001b[0m\u001b[0;31m:\u001b[0m invalid syntax\n"
          ]
        }
      ]
    },
    {
      "cell_type": "code",
      "metadata": {
        "id": "TAIT-8TKumoZ"
      },
      "source": [
        "#Primer programa en Python 3\r\n",
        "\r\n",
        "nombre= \"Jose\"\r\n",
        "edad=18\r\n",
        "print(\"Hola\", nombre, edad)"
      ],
      "execution_count": null,
      "outputs": []
    },
    {
      "cell_type": "markdown",
      "metadata": {
        "id": "b5h5EpZZvtcl"
      },
      "source": [
        "#La función print\r\n",
        "\r\n",
        "Es una de las funciones más empleadas en programación y busca enviar datos a la salida estándar(monitor)\r\n",
        "\r\n",
        "###Formas de uso"
      ]
    },
    {
      "cell_type": "code",
      "metadata": {
        "id": "c1HirJIlwq8k"
      },
      "source": [
        "print(\"Hola\", nombre, edad)\r\n",
        "\r\n",
        "#Nombre: José, con una edad de: 18 años\r\n",
        "print(\"Nombre\", nombre, \"con una edad de\", edad, \"años\")\r\n",
        "print(\"Nombre:\" + nombre +\"con una edad de:\" + str(edad) + \"años\")\r\n",
        "\r\n",
        "#Con format\r\n",
        "print(\"Nombre: {} con una edad de:\")\r\n",
        "\r\n",
        "#Con el operador f\"\r\n",
        "print(f\"Nombre: {nombre} con una edad de: {edad} años.\")"
      ],
      "execution_count": null,
      "outputs": []
    },
    {
      "cell_type": "markdown",
      "metadata": {
        "id": "U3N6JnlD2O5D"
      },
      "source": [
        "#Funcion print() y los caracteres de escape\r\n",
        "-\\n salto de linea\r\n",
        "-\\tabulador\r\n",
        "-\\imprimir la diagonal \\\r\n",
        "-´y\"\r\n",
        "-\\uxxxx\r\n",
        "-\\uxxxxxxx"
      ]
    },
    {
      "cell_type": "code",
      "metadata": {
        "id": "18JQkKnX3-xs"
      },
      "source": [
        "print(´\"´)\r\n",
        "print(\"\\\"\")\r\n",
        "print(\"Nombre: José\\n\\tcon una edad de: 18 años\")"
      ],
      "execution_count": null,
      "outputs": []
    },
    {
      "cell_type": "markdown",
      "metadata": {
        "id": "zhtN_C9g8yxv"
      },
      "source": [
        "#Print y salto de línea en el argumento\r\n",
        "print([Lista de variables], end=\"\\n\") "
      ]
    },
    {
      "cell_type": "code",
      "metadata": {
        "id": "1wlvmc4x9PLs"
      },
      "source": [
        "print(\"Hola\", end=\"\\u13CD\")"
      ],
      "execution_count": null,
      "outputs": []
    },
    {
      "cell_type": "markdown",
      "metadata": {
        "id": "q6RocFaV9gJL"
      },
      "source": [
        "#Comentarios en Python\r\n",
        "Un comentario en programación, es un texto especial que es ignorado por el interprete o un compilador(Segun sea el caso del lenguaje), y es empleado para que el programador documente sus algoritmos.\r\n",
        "\r\n",
        "Existen de dos tipos: de linea simple y de múltiple línea.\r\n",
        "\r\n",
        "En Python:\r\n",
        "-Linea simple emplea #\r\n",
        "-Linea multiple emplea \"\"\""
      ]
    },
    {
      "cell_type": "code",
      "metadata": {
        "id": "j0j8BO3__P3L"
      },
      "source": [
        "print(\"Hola\")\r\n",
        "#print (\"Hola\")\r\n",
        "#Cualquier cosa\r\n",
        "print(\"Hola\")\r\n",
        "print(\"Hola\") #Esta linea imprime hola\r\n",
        "print(\"Hola\")\r\n",
        "print(\"Hola\")\r\n",
        "\"\"\"\r\n",
        "Esto es un comentario de\r\n",
        "multiple linea\r\n",
        "\"\"\""
      ],
      "execution_count": null,
      "outputs": []
    }
  ]
}