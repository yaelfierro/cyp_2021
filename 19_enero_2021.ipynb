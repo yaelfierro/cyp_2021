{
  "nbformat": 4,
  "nbformat_minor": 0,
  "metadata": {
    "colab": {
      "name": "19_enero_2021.ipynb",
      "provenance": [],
      "authorship_tag": "ABX9TyNOlRxLMxKzDVyqvAEy2XY7",
      "include_colab_link": true
    },
    "kernelspec": {
      "name": "python3",
      "display_name": "Python 3"
    }
  },
  "cells": [
    {
      "cell_type": "markdown",
      "metadata": {
        "id": "view-in-github",
        "colab_type": "text"
      },
      "source": [
        "<a href=\"https://colab.research.google.com/github/yaelfierro/cyp_2021/blob/main/19_enero_2021.ipynb\" target=\"_parent\"><img src=\"https://colab.research.google.com/assets/colab-badge.svg\" alt=\"Open In Colab\"/></a>"
      ]
    },
    {
      "cell_type": "markdown",
      "metadata": {
        "id": "H5RWL6rFq2lF"
      },
      "source": [
        "#Slicing (continuación)\r\n",
        "\r\n",
        "[inicio : stop: incremento]\r\n",
        "\r\n",
        "Notas:\r\n",
        "1.-El stop no es incluido\r\n",
        "2.-El incremento se puede modificar\r\n",
        "3.-Soporta indexado alternativo (negativos)\r\n"
      ]
    },
    {
      "cell_type": "code",
      "metadata": {
        "id": "uaBH5FAQpNTb"
      },
      "source": [
        "frase= \"como hacer a la gente mas positiva?, muy facil, has que pierdan un electron!\"\r\n",
        "print(frase)\r\n",
        "\r\n",
        "#imprimir \"ace\" de la palabra hacer\r\n",
        "print(frase[6: 8 : 1])\r\n",
        "\r\n",
        "#Valores por defecto\r\n",
        "print(frase[ : 5 : 2])\r\n",
        "\r\n",
        "#Incremento\r\n",
        "print(frase[ : : 2]) #toda la frase\r\n",
        "print(frase[ -1: : -1]) #inverso  -77\r\n",
        "nombre=\"Juan Jose\"\r\n",
        "print(nombre[1::-1])\r\n",
        "\r\n",
        "primer=nombre[:4:]\r\n",
        "print(primer)\r\n",
        "\r\n",
        "print(nombre[-9: :1])"
      ],
      "execution_count": null,
      "outputs": []
    },
    {
      "cell_type": "markdown",
      "metadata": {
        "id": "J4qUi8szxTvV"
      },
      "source": [
        "#Metodos de la clase String(str)\r\n",
        "En pyhton todo es un objeto (P.O.O), eso significa que cada tipo de dato trae consigo métodos (funciones) incluidas.\r\n",
        "\r\n",
        "Para identificar los métodos disponibles se puede usar una de dos funciones:\r\n",
        "1.- dir(str)#Resumen de los métodos de esa clase\r\n",
        "2.- help(str) #informacion completa de los métodos de esa clase\r\n"
      ]
    },
    {
      "cell_type": "code",
      "metadata": {
        "id": "xiVht5Y6yXwn"
      },
      "source": [
        "nombre= \"Juan Jose\"\r\n",
        "print(nombre)\r\n",
        "print(dir(str))\r\n",
        "\r\n",
        "metodos=dir(str)\r\n",
        "print()"
      ],
      "execution_count": null,
      "outputs": []
    },
    {
      "cell_type": "markdown",
      "metadata": {
        "id": "hR22DFfuyvms"
      },
      "source": [
        "Los nombres de métodos que inician con doble guión bajo, significa que son métodos privados (POO), y no tendrás que usarlos como programador consumidor.\r\n",
        "\r\n",
        "Los métodos son públicos y de libre uso."
      ]
    },
    {
      "cell_type": "code",
      "metadata": {
        "id": "1qB95gEAzis3"
      },
      "source": [
        "print(nombre)\r\n",
        "print(nombre.islower())"
      ],
      "execution_count": null,
      "outputs": []
    },
    {
      "cell_type": "code",
      "metadata": {
        "id": "vW70Oe_2z6AY"
      },
      "source": [
        "print(help(str))\r\n",
        "nombre=\"Pedro Fernandez\"\r\n",
        "print(nombre.capitalize())\r\n",
        "print(nombre.endswith)(\"DEZ\")\r\n",
        "print(nombre.replace(\"ED\", \"**\"))\r\n",
        "ind_e= nombre.find(\"E\")\r\n",
        "print(ind_e)\r\n",
        "nombre= nombre[ :ind_e: ]+ \"@\" + nombre[ ind_e+1::]"
      ],
      "execution_count": null,
      "outputs": []
    },
    {
      "cell_type": "markdown",
      "metadata": {
        "id": "COn7oxqQ452p"
      },
      "source": [
        "#Metodos para procesar el Strings\r\n"
      ]
    },
    {
      "cell_type": "code",
      "metadata": {
        "id": "qDl2jfW54_KF"
      },
      "source": [
        "numeros= \"2,  1,    3,         4, 5\"\r\n",
        "print(numeros)\r\n",
        "#Como extraer los numeros de la cadena\r\n",
        "#1.-Eliminar los espacios al principio y al final con strip()\r\n",
        "numeros=numeros.strip()\r\n",
        "print(numeros)\r\n",
        "\r\n",
        "print(help(str.strip))\r\n",
        "print(numeros)\r\n",
        "\r\n",
        "print(help(str.split))\r\n",
        "#2.-Separo por comas\r\n",
        "numeros=numeros.split(\",\")\r\n",
        "print(numeros)\r\n",
        "\r\n",
        "\r\n",
        "print(help(str.split))\r\n",
        "\r\n",
        "#3.-con un for e indices limpiar cadenas de la lista\r\n",
        "for indice in range(len(numeros)):\r\n",
        "  numeros[indice]= numeros[indice].strip()\r\n",
        "print(numeros)\r\n",
        "\r\n",
        "#4.-convertirlos a enteros\r\n",
        "for indice in range"
      ],
      "execution_count": null,
      "outputs": []
    }
  ]
}